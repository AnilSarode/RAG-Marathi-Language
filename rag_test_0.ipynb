{
 "cells": [
  {
   "cell_type": "code",
   "execution_count": 1,
   "id": "575a1ae2-0a7d-4102-887b-af6f28677171",
   "metadata": {},
   "outputs": [],
   "source": [
    "# imports\n",
    "\n",
    "import os\n",
    "import glob\n",
    "from dotenv import load_dotenv\n",
    "import gradio as gr\n",
    "from openai import OpenAI"
   ]
  },
  {
   "cell_type": "code",
   "execution_count": 2,
   "id": "18e1a3d9-d96e-45c9-ad7e-8d90538c979e",
   "metadata": {},
   "outputs": [],
   "source": [
    "# price is a factor for our company, so we're going to use a low cost model\n",
    "\n",
    "MODEL = \"gpt-4o-mini\""
   ]
  },
  {
   "cell_type": "code",
   "execution_count": 3,
   "id": "cd6db0a2-f883-4b2f-98e1-8596f500f4ed",
   "metadata": {},
   "outputs": [],
   "source": [
    "# Load environment variables in a file called .env\n",
    "\n",
    "load_dotenv()\n",
    "os.environ['OPENAI_API_KEY'] = os.getenv('OPENAI_API_KEY', 'your-key-if-not-using-env')\n",
    "openai = OpenAI()"
   ]
  },
  {
   "cell_type": "code",
   "execution_count": 4,
   "id": "12bf390e-a530-4007-a199-d261329b9e55",
   "metadata": {},
   "outputs": [
    {
     "name": "stdout",
     "output_type": "stream",
     "text": [
      "['Stories/मराठी गोष्टी/टोपीवाला-आणि-माकड-गोष्ट.md', 'Stories/मराठी गोष्टी/कष्टाचे-फळ.md', 'Stories/मराठी गोष्टी/उंदराची-टोपी.md', 'Stories/मराठी गोष्टी/बेडूक-आणि-बैलाची-गोष्ट.md', 'Stories/मराठी गोष्टी/सिंह-उंदीर.md']\n",
      "टोपीवाला-आणि-माकड-गोष्ट\n",
      "कष्टाचे-फळ\n",
      "उंदराची-टोपी\n",
      "बेडूक-आणि-बैलाची-गोष्ट\n",
      "सिंह-उंदीर\n"
     ]
    }
   ],
   "source": [
    "# With massive thanks to student Dr John S. for fixing a bug in the below for Windows users!\n",
    "\n",
    "context = {}\n",
    "\n",
    "stories  = glob.glob(\"Stories/मराठी गोष्टी/*\")\n",
    "print(stories)\n",
    "for story in stories:\n",
    "    # print(story)\n",
    "    name = story.split(' ')[-1][7:-3]\n",
    "    print(name)\n",
    "    doc = \"\"\n",
    "    with open(story, \"r\", encoding=\"utf-8\") as f:\n",
    "        doc = f.read()\n",
    "    context[name]=doc"
   ]
  },
  {
   "cell_type": "code",
   "execution_count": 5,
   "id": "550b36c5-f7dd-4544-8931-cc1ad0d0d9fb",
   "metadata": {},
   "outputs": [],
   "source": [
    "# print(type(stories))"
   ]
  },
  {
   "cell_type": "code",
   "execution_count": null,
   "id": "02dfe9f4-e64f-492e-a58e-fbefafac43d3",
   "metadata": {},
   "outputs": [],
   "source": [
    "# print(stories)"
   ]
  },
  {
   "cell_type": "code",
   "execution_count": null,
   "id": "a36aacf4-a32a-4372-8372-10c0bfcd31b2",
   "metadata": {},
   "outputs": [],
   "source": [
    "stories[0]"
   ]
  },
  {
   "cell_type": "code",
   "execution_count": null,
   "id": "4f5fa633-e84c-4442-b7bb-857da346664b",
   "metadata": {},
   "outputs": [],
   "source": [
    "stories[0].split(' ')[-1]"
   ]
  },
  {
   "cell_type": "code",
   "execution_count": null,
   "id": "6dbec332-d3ab-4c84-ba13-50076ec3c8b4",
   "metadata": {},
   "outputs": [],
   "source": [
    "stories[0].split(' ')[-1][7:-3]"
   ]
  },
  {
   "cell_type": "code",
   "execution_count": null,
   "id": "ddf05eeb-0829-4452-8f3c-c9164bfcdf2b",
   "metadata": {},
   "outputs": [],
   "source": [
    "context.keys()"
   ]
  },
  {
   "cell_type": "code",
   "execution_count": null,
   "id": "402fc746-2844-40a6-a079-4ede963320c9",
   "metadata": {},
   "outputs": [],
   "source": [
    "context['टोपीवाला-आणि-माकड-गोष्ट']"
   ]
  },
  {
   "cell_type": "code",
   "execution_count": null,
   "id": "304b7ff3-eaa4-49ec-b41a-78c585470da8",
   "metadata": {},
   "outputs": [],
   "source": [
    "context['उंदराची-टोपी']"
   ]
  },
  {
   "cell_type": "code",
   "execution_count": null,
   "id": "c8b05726-7235-4747-8c1b-cefd4844fd7e",
   "metadata": {},
   "outputs": [],
   "source": [
    "for i, j in context.items():\n",
    "    print(i)"
   ]
  },
  {
   "cell_type": "code",
   "execution_count": 6,
   "id": "b837b232-2d8d-4139-bf8a-aab322721286",
   "metadata": {},
   "outputs": [],
   "source": [
    "system_message = \"तुम्ही मराठी भाषेतील लहान मुलांच्या गोष्टींबाबत अचूक उत्तरं देणारे तज्ज्ञ आहात. संक्षिप्त व अचूक उत्तरं द्या. जर एखाद्या प्रश्नाचं उत्तर माहिती नसेल, तर तसे स्पष्टपणे सांगा. संदर्भाशिवाय काहीही तयार करू नका.\""
   ]
  },
  {
   "cell_type": "code",
   "execution_count": 7,
   "id": "f8a5fae1-b4c8-4a1c-abaf-d1d2cd8b5d46",
   "metadata": {},
   "outputs": [],
   "source": [
    "def get_relevant_context(message):\n",
    "    relevant_context = []\n",
    "    for context_title, context_details in context.items():\n",
    "        # print(context_title)\n",
    "        # print(context_details)\n",
    "        if context_title in message:\n",
    "            relevant_context.append(context_details)\n",
    "    return relevant_context          "
   ]
  },
  {
   "cell_type": "code",
   "execution_count": 8,
   "id": "cafb8c38-76d2-44eb-a766-ac78525f1b7b",
   "metadata": {},
   "outputs": [
    {
     "data": {
      "text/plain": [
       "['##  उंदराची-टोपी\\n\\n#####  एक होता उंदिरमामा. रस्त्याने जाताना त्याला मिळाले एक फडके.फडके घेऊन तो गेला धोब्याकडे. धोब्याला म्हणाला ‘धोबीदादा,धोबीदादा माझे फडके धुवून दे. धोब्याने फडके धुवून दिले. मग उंदिरमामा गेला शिंप्याकडे. ‘शिंपीदादा, ‘शिंपीदादा,शिंपीदादा मला एक छानशी टोपी शिवून दे तिला रंगीत गोंडेही लाव. शिंप्याने उंदिरमामाला टोपी शिवून दिली. \\n\\n##### उंदिरमामाने टोपी डोक्यावर घातली एक ढोलके घेतले. ते वाजवत तो गाणे गाऊ लागला ‘ राजाच्या टोपीपेक्षा माझी टोपी छान. ढुम,ढुम,ढुमक !’ राजाने हे ऐकले . तो शिपायांना म्हणाला ‘ जा रे, त्या उंदराला पकडून आणा.   \\n\\n##### शिपायांनी उंदिरमामाला पकडले. दरबारात आणले. त्याची टोपी काढून राजाकडे दिली. मग उंदिरमामा म्हणाला ‘राजा भिकारी, माझी टोपी घेतली. ढुम,ढुम,ढुमक !’ \\n\\n##### हे ऐकून राजा खूपच रागावला. त्याने उंदराकडे टोपी फेकून दिली. उंदिरमामाने टोपी पुन्हा डोक्यावर घातली व तो गाणे गाऊ लागला ‘राजा मला भ्याला. माझी टोपी दिली. ढुम,ढुम,ढुमक !’ हे गाणे गात गात तो राजवाडयातून निघून गेला.\\n\\n***तात्पर्य: शक्तीपेक्षा युक्ती श्रेष्ठ***']"
      ]
     },
     "execution_count": 8,
     "metadata": {},
     "output_type": "execute_result"
    }
   ],
   "source": [
    "get_relevant_context(\"उंदराची-टोपी गोष्टीच तात्पर्य काय आहे?\")"
   ]
  },
  {
   "cell_type": "code",
   "execution_count": null,
   "id": "a92d0a6d-96b5-4e54-9bde-2ba91ce64155",
   "metadata": {},
   "outputs": [],
   "source": []
  },
  {
   "cell_type": "code",
   "execution_count": 9,
   "id": "0e01b7c5-20ee-4922-b72e-864fe46a72ff",
   "metadata": {},
   "outputs": [
    {
     "data": {
      "text/plain": [
       "[]"
      ]
     },
     "execution_count": 9,
     "metadata": {},
     "output_type": "execute_result"
    }
   ],
   "source": [
    "get_relevant_context(\"तात्पर्य काय आहे?\")"
   ]
  },
  {
   "cell_type": "code",
   "execution_count": null,
   "id": "158824b8-a108-4916-8661-3276bb0e2af8",
   "metadata": {},
   "outputs": [],
   "source": [
    "# def add_context(message):\n",
    "#     relevant_context = get_relevant_context(message)\n",
    "#     if relevant_context:\n",
    "#         message += \"\\n\\nThe following additional context might be relevant in answering this question:\\n\\n\"\n",
    "#         for relevant in relevant_context:\n",
    "#             message += relevant + \"\\n\\n\"\n",
    "#     return message"
   ]
  },
  {
   "cell_type": "code",
   "execution_count": 10,
   "id": "37d7bf4a-b0b0-4399-ab23-785d486bcb90",
   "metadata": {},
   "outputs": [],
   "source": [
    "def add_context(message):\n",
    "    relevant_context = get_relevant_context(message)\n",
    "    if relevant_context:\n",
    "        message += \"\\n\\nखालील संदर्भ या प्रश्नासाठी उपयुक्त ठरू शकतात:\\n\\n\"\n",
    "        for relevant in relevant_context:\n",
    "            message += relevant + \"\\n\\n\"\n",
    "    else:\n",
    "        message += \"\\n\\n⚠️ कोणताही गोष्टीचा संदर्भ सापडला नाही. कृपया नेमकी गोष्टीची नावे वापरा.\\n\\n\"\n",
    "    return message\n"
   ]
  },
  {
   "cell_type": "code",
   "execution_count": 11,
   "id": "73fb8797-9fe5-41ee-9f80-ae704f96ba2e",
   "metadata": {},
   "outputs": [
    {
     "name": "stdout",
     "output_type": "stream",
     "text": [
      "उंदराची-टोपी गोष्टीच तात्पर्य काय आहे?\n",
      "\n",
      "खालील संदर्भ या प्रश्नासाठी उपयुक्त ठरू शकतात:\n",
      "\n",
      "##  उंदराची-टोपी\n",
      "\n",
      "#####  एक होता उंदिरमामा. रस्त्याने जाताना त्याला मिळाले एक फडके.फडके घेऊन तो गेला धोब्याकडे. धोब्याला म्हणाला ‘धोबीदादा,धोबीदादा माझे फडके धुवून दे. धोब्याने फडके धुवून दिले. मग उंदिरमामा गेला शिंप्याकडे. ‘शिंपीदादा, ‘शिंपीदादा,शिंपीदादा मला एक छानशी टोपी शिवून दे तिला रंगीत गोंडेही लाव. शिंप्याने उंदिरमामाला टोपी शिवून दिली. \n",
      "\n",
      "##### उंदिरमामाने टोपी डोक्यावर घातली एक ढोलके घेतले. ते वाजवत तो गाणे गाऊ लागला ‘ राजाच्या टोपीपेक्षा माझी टोपी छान. ढुम,ढुम,ढुमक !’ राजाने हे ऐकले . तो शिपायांना म्हणाला ‘ जा रे, त्या उंदराला पकडून आणा.   \n",
      "\n",
      "##### शिपायांनी उंदिरमामाला पकडले. दरबारात आणले. त्याची टोपी काढून राजाकडे दिली. मग उंदिरमामा म्हणाला ‘राजा भिकारी, माझी टोपी घेतली. ढुम,ढुम,ढुमक !’ \n",
      "\n",
      "##### हे ऐकून राजा खूपच रागावला. त्याने उंदराकडे टोपी फेकून दिली. उंदिरमामाने टोपी पुन्हा डोक्यावर घातली व तो गाणे गाऊ लागला ‘राजा मला भ्याला. माझी टोपी दिली. ढुम,ढुम,ढुमक !’ हे गाणे गात गात तो राजवाडयातून निघून गेला.\n",
      "\n",
      "***तात्पर्य: शक्तीपेक्षा युक्ती श्रेष्ठ***\n",
      "\n",
      "\n"
     ]
    }
   ],
   "source": [
    "print(add_context(\"उंदराची-टोपी गोष्टीच तात्पर्य काय आहे?\"))"
   ]
  },
  {
   "cell_type": "code",
   "execution_count": 12,
   "id": "87181a9c-37e2-4787-86ee-ed4efe924e60",
   "metadata": {},
   "outputs": [
    {
     "name": "stdout",
     "output_type": "stream",
     "text": [
      "सिंह-उंदीर ह्या गोष्टीच तात्पर्य काय आहे?\n",
      "\n",
      "खालील संदर्भ या प्रश्नासाठी उपयुक्त ठरू शकतात:\n",
      "\n",
      "## सिंह-उंदीर \n",
      "\n",
      "#####  उन्हाळ्याच्या दिवसात, एक सिंह, एका आंब्याच्या थंड छायेत सुस्त निजला होता; तिथे एक उंदीर येतो. तो  उंदीर सिंहला  खूप त्रास देतो. त्यामुळे जागा होऊन, सिंहने पंजात उंदीरला धरला आणि त्यास आता फाडून टाकणार इतक्यात, त्या उंदराने त्याची प्रार्थना केली, ‘महाराज, आपण थोर, सर्व श्वापदांचे राजे, मी आपल्यापुढे केवळ रंक, माझ्या रक्ताने आपले हात विटाळू नयेत. मला जीवदान दयावे, हेच आपणास उचित आहे.’ ते ऐकून सिंहास त्याची दया आली आणि त्याने त्यास सोडून दिले. \n",
      "\n",
      "##### पुढे एके दिवशी सिंह अरण्यात फिरत असताना आंब्याच्या झाडाजवळ जातो, त्याच आंब्याजवळ पारध्याने जाळे मांडले होते, त्यात सिंह सापडतो. त्यावेळी त्याने आपले सगळे बळ खर्चून फार धडपड केली. पण त्याची सुटका होईना. तेव्हा तो निराश झाला आणि मोठमोठयाने ओरडू लागला. ती ओरडणं ऐकून तो उंदीर त्या ठिकाणी आला आणि सिंहास म्हणाला, ‘राजा, भिऊ नको, स्वस्थ रहा. ’ इतके बोलून, त्याने आपल्या दातांनी ते जाळे कुरतडले व सिंहाची सुटका केली.\n",
      "\n",
      "***तात्पर्य:- जे मोठे आहेत त्यांचेही एखादे मोठे काम लहानाच्या हातून, एखादे वेळी होते. यासाठी, कोणास क्षुद्र समजून त्याचा उपहास करू नये किंवा त्यास दुखवू नये. लहानाच्या हातूनही उपकार होऊ शकतात, हे लक्षात ठेवावे. वैभव कायम राहीलच, असा नेम नाही, यासाठी आपल्या चालत्या काळी, मनुष्याने लोकांवर उपकार करून ठेविले, तर पडत्या काळात तेच.***\n",
      "\n",
      "\n",
      "\n",
      "\n"
     ]
    }
   ],
   "source": [
    "print(add_context(\"सिंह-उंदीर ह्या गोष्टीच तात्पर्य काय आहे?\"))"
   ]
  },
  {
   "cell_type": "code",
   "execution_count": 13,
   "id": "5ced843a-1346-48f9-8bf5-d4b0a9a7e2ce",
   "metadata": {},
   "outputs": [
    {
     "name": "stdout",
     "output_type": "stream",
     "text": [
      "उंदराची आणी टोपी गोष्टीत, उंदीर मामा कोणते गाणे गाऊ लागला\n",
      "\n",
      "⚠️ कोणताही गोष्टीचा संदर्भ सापडला नाही. कृपया नेमकी गोष्टीची नावे वापरा.\n",
      "\n",
      "\n"
     ]
    }
   ],
   "source": [
    "print(add_context(\"उंदराची आणी टोपी गोष्टीत, उंदीर मामा कोणते गाणे गाऊ लागला\"))"
   ]
  },
  {
   "cell_type": "code",
   "execution_count": 14,
   "id": "ee8e4d9b-583e-4502-8e4e-04d7084b56e8",
   "metadata": {},
   "outputs": [
    {
     "name": "stdout",
     "output_type": "stream",
     "text": [
      "उंदराची टोपी गोष्टीच तात्पर्य काय आहे?\n",
      "\n",
      "⚠️ कोणताही गोष्टीचा संदर्भ सापडला नाही. कृपया नेमकी गोष्टीची नावे वापरा.\n",
      "\n",
      "\n"
     ]
    }
   ],
   "source": [
    "print(add_context(\"उंदराची टोपी गोष्टीच तात्पर्य काय आहे?\"))"
   ]
  },
  {
   "cell_type": "code",
   "execution_count": null,
   "id": "786d598b-54cb-4b2b-b8eb-dfe02967431d",
   "metadata": {},
   "outputs": [],
   "source": [
    "def chat(message, history):\n",
    "    print(history)\n",
    "    messages = [{\"role\": \"system\", \"content\": system_message}] + history\n",
    "    message = add_context(message)\n",
    "    messages.append({\"role\": \"user\", \"content\": message})\n",
    "\n",
    "    stream = openai.chat.completions.create(model=MODEL, messages=messages, stream=True)\n",
    "\n",
    "    response = \"\"\n",
    "    for chunk in stream:\n",
    "        response += chunk.choices[0].delta.content or ''\n",
    "        yield response"
   ]
  },
  {
   "cell_type": "code",
   "execution_count": null,
   "id": "5465293a-7a40-418a-8345-ff444089bc85",
   "metadata": {},
   "outputs": [],
   "source": [
    "view = gr.ChatInterface(chat, type=\"messages\").launch()"
   ]
  },
  {
   "cell_type": "code",
   "execution_count": null,
   "id": "27d554d7-c7b4-4933-ac9a-b76e5f227f72",
   "metadata": {},
   "outputs": [],
   "source": []
  }
 ],
 "metadata": {
  "kernelspec": {
   "display_name": "Python 3 (ipykernel)",
   "language": "python",
   "name": "python3"
  },
  "language_info": {
   "codemirror_mode": {
    "name": "ipython",
    "version": 3
   },
   "file_extension": ".py",
   "mimetype": "text/x-python",
   "name": "python",
   "nbconvert_exporter": "python",
   "pygments_lexer": "ipython3",
   "version": "3.10.12"
  }
 },
 "nbformat": 4,
 "nbformat_minor": 5
}
